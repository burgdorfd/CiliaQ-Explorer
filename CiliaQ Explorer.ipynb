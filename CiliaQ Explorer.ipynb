{
 "cells": [
  {
   "cell_type": "markdown",
   "metadata": {},
   "source": [
    "---\n",
    "# **CiliaQ Explorer** \n",
    "### A tool to process CiliaQ-derived data\n",
    "Supplement to: Burgdorf et al (2025): Protocol for Measuring Cilia Length using 3D Confocal Fluorescence Microscopy, CiliaQ software and a quality control pipeline\n",
    "\n",
    "**Author**: Daniel Burgdorf  \n",
    "**Affiliation**:  Institute of Innate Immunity, University of Bonn  \n",
    "**Contact**: [daniel.burgdorf@uni-bonn.de](mailto:s6daburg@uni-bonn.de)  \n",
    "**Version**: 1.0.0 (31-03-2025)  \n",
    "\n",
    "---"
   ]
  },
  {
   "cell_type": "markdown",
   "metadata": {},
   "source": [
    "## Abstract\n",
    "This notebook provides a step-by step pipeline that can process CiliaQ-derived analysis results from different replicates and experimental conditions. This notebook allows pooling CiliaQ-derived CQ files from different experimental replicates and conditions, performing quality control and statistical analysis of the data and plotting all ciliary parameters in a superplot-format.   \n",
    "> This pipeline is complements the workflow discribed in:  \n",
    "> Burgdorf et al (2025): Protocol for Measuring Cilia Length using 3D Confocal Fluorescence Microscopy, CiliaQ software and a quality control pipeline. doi: \n",
    "\n",
    "\n",
    "\n",
    "\n",
    "This pipeline performs the following steps: \n",
    "- Data preprocessing and pooling\n",
    "- Statistical analysis\n",
    "- Dimensionality reduction (PCA and UMAP)\n",
    "- Visualization (superplots)\n",
    "- Export of figures (.svg, .png), data and configuration\n",
    "\n",
    "For further details, please refer to the protocol paper.\n",
    "\n",
    "---"
   ]
  },
  {
   "cell_type": "markdown",
   "metadata": {},
   "source": [
    "### **Requirements**  \n",
    "- Python 3.12 \n",
    "- os, re, itertools, pandas, numpy, scipy, pingouin, statsmodels, scikit-posthocs, seaborn, matplotlib, scikit-learn, umap-learn, tkinter, \n",
    "\n",
    "\n",
    "**Installation and Environment Setup**: See `requirements.txt` or run:  \n",
    "```bash\n",
    "    pip install -r requirements.txt\n",
    "```\n",
    "### **Input:**  \n",
    "For each experimental condition, pool all CiliaQ-derived files in one folder (via Windows Explorer or Finder on MacOS), (e.g. \"DMSO\", \"treatment 1\", \"treatment 2\" etc). Be careful to name the folders carefully, since their names will be displayed in the plots further downstream. \n",
    " The CiliaQ-Explorer will fetch the CQ.txt files, reads them as .csv files and performs the statistical analysis, quality control and plotting. Make sure that the CQ.txt files do not contain any inserted or deleted cells, rows or columns, since this could lead to errors during the analysis. For convenient analysis, ensure that the CQ.txt files are stored locally on the devide. \n",
    "\n",
    "### **Expected Outcomes**\n",
    "- Statistical results   (statistics.csv)\n",
    "- Summary file          (summary.csv)\n",
    "- Configuration file    (config.csv)\n",
    "- UMAP and PCA plots    (.svg/.png)\n",
    "- Superplots            (.svg/.png)  \n",
    "- Metadata summary (optional, metadata.csv)\n",
    "\n",
    "---"
   ]
  },
  {
   "cell_type": "markdown",
   "metadata": {},
   "source": [
    "### **1. Pipeline Setup**:\n",
    "When this pipeline is being executed, CiliaQ Explorer requests to select the directories of the prepared folders, each containing the CiliaQ-derived data for all replicates of one experimental condition. Selected directories are displayed in the dialog, until you click \"apply\".  \n",
    "Once applied, the Explorer request to select the measurements to include into the analysis, a FOR5547-metafile (if applicable) and gives the possibility to choose the Explorer to perform automated statistics (see below).   "
   ]
  },
  {
   "cell_type": "code",
   "execution_count": null,
   "metadata": {},
   "outputs": [],
   "source": [
    "from main import Explorer"
   ]
  },
  {
   "cell_type": "code",
   "execution_count": null,
   "metadata": {},
   "outputs": [],
   "source": [
    "explorer = Explorer()\n",
    "explorer.setup_explorer()"
   ]
  },
  {
   "cell_type": "markdown",
   "metadata": {},
   "source": [
    "---\n",
    "\n",
    "### **Data import**:\n",
    "Once set up, the CiliaQ Analyzer imports the CiliaQ-derived measurements from the .csv files in the selected folders. For each replicate and measurement, the data is concatenated and prepared for further analysis.  "
   ]
  },
  {
   "cell_type": "code",
   "execution_count": null,
   "metadata": {},
   "outputs": [],
   "source": [
    "# pool data\n",
    "explorer.import_data()"
   ]
  },
  {
   "cell_type": "markdown",
   "metadata": {},
   "source": [
    "---\n",
    "\n",
    "### **Statistics**:\n",
    "If selected, the Analyzer performs statistical analysis of the selected measurements. Based on the number of compared conditions and assessment of normal distribution and homogeniety of variance, the algorithm determines which statistical test to choose, based on this decision tree:"
   ]
  },
  {
   "cell_type": "code",
   "execution_count": null,
   "metadata": {},
   "outputs": [],
   "source": [
    "explorer.perform_statistics()"
   ]
  },
  {
   "cell_type": "markdown",
   "metadata": {},
   "source": [
    "---\n",
    "\n",
    "### **Dimensionality Reduction**\n",
    "The CiliaQ Analyzer aims to use the extensive measurements ontained by CiliaQ to perform dimensionality reduction on a single cilium level. The pipeline both transforms the dtaa linearly (Principle Component Analysis, PCA) and non-linearly (Uniform Manifold Approximation and Projection, UMAP)."
   ]
  },
  {
   "cell_type": "code",
   "execution_count": null,
   "metadata": {},
   "outputs": [],
   "source": [
    "explorer.perform_PCA()\n",
    "explorer.perform_UMAP()"
   ]
  },
  {
   "cell_type": "markdown",
   "metadata": {},
   "source": [
    "---\n",
    "\n",
    "### **Quality Control**"
   ]
  },
  {
   "cell_type": "code",
   "execution_count": null,
   "metadata": {},
   "outputs": [],
   "source": [
    "explorer.perform_qc()"
   ]
  },
  {
   "cell_type": "markdown",
   "metadata": {},
   "source": [
    "---\n",
    "\n",
    "### **Plotting**\n",
    "To visualize all replicates and conditions, the CiliaQ Analyzer will plot all selected measurements using superplots. Following the guide provided by [Lord et al. (2020)](10.1083/jcb.202001064), the scatterplots  indicate the replicate ontogeny by color to visually assess reproducability. Moreover, the plots are underlayed with violinplots containing both the median and upper/lower quantile to emphasize the data distribution. \n",
    "\n"
   ]
  },
  {
   "cell_type": "code",
   "execution_count": null,
   "metadata": {},
   "outputs": [],
   "source": [
    "#Plot grouped data\n",
    "explorer.plot_superplot()"
   ]
  },
  {
   "cell_type": "markdown",
   "metadata": {},
   "source": [
    "---\n",
    "\n",
    "### **Summary Export**\n",
    "Finally, the data which was processed by the CiliaQ Explorer is exported as .csv files.\n",
    "##### **Output**:\n",
    "| **Description**               | **File Format**      | **Details** |\n",
    "|-------------------------------|----------------------|-------------|\n",
    "| **Statistical results**        | `(statistics.csv)`   | contains mean, standard deviation, p-values, details about the performed test, etc. |\n",
    "| **Summary file**               | `(summary.csv)`      | contains raw data for each replicate and measurement, which was used for statisticsal analysis and plotting |\n",
    "| **QC Summary file**               | `(qc_summary.csv)`      | contains the summarized qc results in text format|\n",
    "| **Configuration file**         | `(config.csv)`       | Stores the CiliaQ Explorer settings needed to reproduce the analysis |\n",
    "| **UMAP and PCA plots**         | `(.svg/.png)`        | Visualization of dimensionality reduction* |\n",
    "| **Superplots**                 | `(.svg/.png)`        |   |\n",
    "| **Metadata summary**   | `(metadata.csv)`     | Contains key experimental metadata, if a FOR5547-metafile was supplied |\n",
    "| **Measurement files**          | `(.csv)`            | contains the raw data behind each plot, useful during publication |\n"
   ]
  },
  {
   "cell_type": "code",
   "execution_count": null,
   "metadata": {},
   "outputs": [],
   "source": [
    "explorer.write_summary()\n",
    "explorer.write_config()\n",
    "explorer.write_metadata_summary()\n",
    "explorer.write_stat_summary()"
   ]
  },
  {
   "cell_type": "markdown",
   "metadata": {},
   "source": [
    "---\n",
    "\n",
    "### **License**  \n",
    "This pipeline is released under the MIT License. You are free to use, share, and adapt with attribution.\n",
    "\n",
    "### **Citation**  \n",
    "If you use this pipeline, please cite our protocol paper:  \n",
    "> \n",
    "\n",
    "Example BibTeX:\n",
    "```bibtex\n",
    "@article{burgdorf2025ciliaq_explorer,\n",
    "  author    = {Daniel Burgdorf, Seniz Yüksel, Jan N. Hansen, Dagmar Wachten and Nathalie Jurisch-Yaksi},\n",
    "  title     = {Protocol for Measuring Cilia Length using 3D Confocal Fluorescence Microscopy, CiliaQ software and a quality control pipeline},\n",
    "  journal   = {Star Protocols},\n",
    "  year      = {2025},\n",
    "  doi       = {insert doi}\n",
    "}"
   ]
  },
  {
   "cell_type": "markdown",
   "metadata": {},
   "source": [
    "---\n",
    "\n",
    "---\n",
    "\n",
    "### **References**\n",
    "\n",
    "**1. Paper references**<br>  \n",
    "> **1.1.** Hansen, J.N., Rassmann, S., Stüven, B., Jurisch-Yaksi, N., and Wachten, D. (2021). CiliaQ: a simple, open-source software for automated quantification of ciliary morphology and fluorescence in 2D, 3D, and 4D images. The European physical journal. E, Soft matter 44, 18. 10.1140/epje/s10189-021-00031-y. <br>\n",
    "> **1.2.** Lord, S.J., Velle, K.B., Mullins, R.D., and Fritz-Laylin, L.K. (2020). SuperPlots: Communicating reproducibility and variability in cell biology. The Journal of cell biology 219. 10.1083/jcb.202001064.<br>\n",
    "> **1.3.** Shapiro, S.S., and Wilk, M.B. (1965). An Analysis of Variance Test for Normality (Complete Samples). Biometrika 52, 591. 10.2307/2333709.<br>\n",
    "> **1.4.** Levene, H. (1960). Robust Tests for Equality of Variances, 278–292.<br>\n",
    "\n",
    "**2. Package references**<br>\n",
    "\n",
    "> **2.1. matplotlib**: Hunter, J.D. (2007). Matplotlib: A 2D Graphics Environment. Computing in Science & Engineering, 9(3), 90–95. https://doi.org/10.1109/MCSE.2007.55<br>\n",
    "**2.2. seaborn**: Waskom, M.L. (2021). Seaborn: Statistical Data Visualization. Journal of Open Source Software, 6(60), 3021. https://doi.org/10.21105/joss.03021<br>\n",
    "> **2.3. numba**: Lam, S.K., Pitrou, A., & Seibert, S. (2015). Numba: A LLVM-based Python JIT Compiler. Proceedings of the Second Workshop on the LLVM Compiler Infrastructure in HPC, Article 7. https://doi.org/10.1145/2833157.2833162<br>\n",
    "> **2.4. numpy**: Harris, C.R. et al. (2020). Array programming with NumPy. Nature, 585(7825), 357–362. https://doi.org/10.1038/s41586-020-2649-2<br>\n",
    "> **2.5. scipy**: Virtanen, P. et al. (2020). SciPy 1.0: Fundamental Algorithms for Scientific Computing in Python. Nature Methods, 17, 261–272. https://doi.org/10.1038/s41592-019-0686-2<br>\n",
    "> **2.6. statsmodels**: Seabold, S., & Perktold, J. (2010). Statsmodels: Econometric and Statistical Modeling with Python. Proceedings of the 9th Python in Science Conference, 57–61. https://doi.org/10.25080/Majora-92bf1922-011<br>\n",
    "> **2.7. pingouin**: Vallat, R. (2018). Pingouin: statistics in Python. Journal of Open Source Software, 3(31), 1026. https://doi.org/10.21105/joss.01026<br>\n",
    "> **2.8. scikit-posthocs**: Terpilowski, M.A. (2019). scikit-posthocs: Pairwise multiple comparison tests in Python. Journal of Open Source Software, 4(36), 1169. https://doi.org/10.21105/joss.01169<br>\n",
    "> **2.9. umap-learn**: McInnes, L., Healy, J., & Melville, J. (2018). UMAP: Uniform Manifold Approximation and Projection for Dimension Reduction. arXiv:1802.03426. https://arxiv.org/abs/1802.03426<br>\n",
    "> **2.10. pandas**: The pandas development team (2010). Data Structures for Statistical Computing in Python. Proceedings of the 9th Python in Science Conference, 56–61. https://doi.org/10.25080/Majora-92bf1922-00a<br>\n",
    "> **2.11. scikit-learn**: Pedregosa, F. et al. (2011). Scikit-learn: Machine Learning in Python. Journal of Machine Learning Research, 12, 2825–2830.<br>\n",
    "> **2.12. tqdm**: Casper da Costa-Luis et al. (2024). tqdm: A fast, Extensible Progress Bar for Python and CLI Zenodo. https://doi.org/10.5281/zenodo.14231923<br>\n"
   ]
  }
 ],
 "metadata": {
  "kernelspec": {
   "display_name": ".venv",
   "language": "python",
   "name": "python3"
  },
  "language_info": {
   "codemirror_mode": {
    "name": "ipython",
    "version": 3
   },
   "file_extension": ".py",
   "mimetype": "text/x-python",
   "name": "python",
   "nbconvert_exporter": "python",
   "pygments_lexer": "ipython3",
   "version": "3.12.4"
  }
 },
 "nbformat": 4,
 "nbformat_minor": 2
}
