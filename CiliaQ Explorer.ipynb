{
 "cells": [
  {
   "cell_type": "markdown",
   "metadata": {},
   "source": [
    "---\n",
    "# CiliaQ Explorer \n",
    "### A tool to process CiliaQ-derived data\n",
    "Supplement to: Burgdorf et al (2025): Protocol for Measuring Cilia Length using 3D Confocal Fluorescence Microscopy, CiliaQ software and a quality control pipeline\n",
    "\n",
    "**Author**: Daniel Burgdorf  \n",
    "**Affiliation**:  Institute of Innate Immunity, University of Bonn  \n",
    "**Contact**: [daniel.burgdorf@uni-bonn.de](mailto:s6daburg@uni-bonn.de)  \n",
    "**Version**: 1.0.0 (31-03-2025)  \n",
    "\n",
    "---"
   ]
  },
  {
   "cell_type": "markdown",
   "metadata": {},
   "source": [
    "## **Abstract**\n",
    "This notebook provides a step-by step pipeline that can process CiliaQ-derived analysis results from different replicates and experimental conditions. This notebook allows pooling CiliaQ-derived CQ files from different experimental replicates and conditions, performing quality control and statistical analysis of the data and plotting all ciliary parameters in a superplot-format.   \n",
    "> This pipeline is complements the workflow discribed in:  \n",
    "> Burgdorf et al (2025): Protocol for Measuring Cilia Length using 3D Confocal Fluorescence Microscopy, CiliaQ software and a quality control pipeline. doi: \n",
    "\n",
    "\n",
    "\n",
    "\n",
    "This pipeline performs the following steps: \n",
    "- Data preprocessing and pooling\n",
    "- Statistical analysis\n",
    "- Dimensionality reduction (PCA and UMAP)\n",
    "- Visualization (superplots)\n",
    "- Export of figures (.svg, .png), data and configuration\n",
    "\n",
    "For further details, please refer to the protocol paper.\n",
    "\n",
    "---"
   ]
  },
  {
   "cell_type": "markdown",
   "metadata": {},
   "source": [
    "### **Requirements**  \n",
    "- Python 3.12 \n",
    "- os, re, itertools, pandas, numpy, scipy, pingouin, statsmodels, scikit-posthocs, seaborn, matplotlib, scikit-learn, umap-learn, tkinter, \n",
    "\n",
    "\n",
    "**Installation and Environment Setup**: See `requirements.txt` or run:  \n",
    "```bash\n",
    "    pip install -r requirements.txt\n",
    "```\n",
    "### **Input:**  \n",
    "For each experimental condition, pool all CiliaQ-derived files in one folder (via Windows Explorer or Finder on MacOS), (e.g. \"DMSO\", \"treatment 1\", \"treatment 2\" etc). Be careful to name the folders carefully, since their names will be displayed in the plots further downstream. \n",
    " The CiliaQ-Explorer will fetch the CQ.txt files, reads them as .csv files and performs the statistical analysis, quality control and plotting. Make sure that the CQ.txt files do not contain any inserted or deleted cells, rows or columns, since this could lead to errors during the analysis. For convenient analysis, ensure that the CQ.txt files are stored locally on the devide. \n",
    "\n",
    "### **Expected Outcomes**\n",
    "- Statistical results   (statistics.csv)\n",
    "- Summary file          (summary.csv)\n",
    "- Configuration file    (config.csv)\n",
    "- UMAP and PCA plots    (.svg/.png)\n",
    "- Superplots            (.svg/.png)  \n",
    "- FOR5547 Metadata summary (optional, metadata.csv)\n",
    "\n",
    "---"
   ]
  },
  {
   "cell_type": "markdown",
   "metadata": {},
   "source": [
    "### **1. Pipeline Setup**:\n",
    "When this pipeline is being executed, CiliaQ Explorer requests to select the directories of the prepared folders, each containing the CiliaQ-derived data for all replicates of one experimental condition. Selected directories are displayed in the dialog, until you click \"apply\".  \n",
    "Once applied, the Explorer request to select the measurements to include into the analysis, a FOR5547-metafile (if applicable) and gives the possibility to choose the Explorer to perform automated statistics (see below).   "
   ]
  },
  {
   "cell_type": "code",
   "execution_count": null,
   "metadata": {},
   "outputs": [],
   "source": [
    "from main import Explorer"
   ]
  },
  {
   "cell_type": "code",
   "execution_count": null,
   "metadata": {},
   "outputs": [],
   "source": [
    "explorer = Explorer()\n",
    "explorer.setup_explorer()"
   ]
  },
  {
   "cell_type": "markdown",
   "metadata": {},
   "source": [
    "---\n",
    "\n",
    "### **Data import**:\n",
    "Once set up, the CiliaQ Analyzer imports the CiliaQ-derived measurements from the .csv files in the selected folders. For each replicate and measurement, the data is concatenated and prepared for further analysis.  "
   ]
  },
  {
   "cell_type": "code",
   "execution_count": null,
   "metadata": {},
   "outputs": [],
   "source": [
    "# pool data\n",
    "explorer.import_data()"
   ]
  },
  {
   "cell_type": "markdown",
   "metadata": {},
   "source": [
    "---\n",
    "\n",
    "### **Statistics**:\n",
    "If selected, the Analyzer performs statistical analysis of the selected measurements. Based on the number of compared conditions and assessment of normal distribution and homogeniety of variance, the algorithm determines which statistical test to choose, based on this decision tree:"
   ]
  },
  {
   "cell_type": "code",
   "execution_count": null,
   "metadata": {},
   "outputs": [],
   "source": [
    "explorer.perform_statistics()"
   ]
  },
  {
   "cell_type": "markdown",
   "metadata": {},
   "source": [
    "---\n",
    "\n",
    "### **Dimensionality Reduction**\n",
    "The CiliaQ Analyzer aims to use the extensive measurements ontained by CiliaQ to perform dimensionality reduction on a single cilium level. The pipeline both transforms the dtaa linearly (Principle Component Analysis, PCA) and non-linearly (Uniform Manifold Approximation and Projection, UMAP)."
   ]
  },
  {
   "cell_type": "code",
   "execution_count": null,
   "metadata": {},
   "outputs": [],
   "source": [
    "explorer.perform_PCA()\n",
    "explorer.perform_UMAP()"
   ]
  },
  {
   "cell_type": "markdown",
   "metadata": {},
   "source": [
    "---\n",
    "\n",
    "### **Quality Control**"
   ]
  },
  {
   "cell_type": "code",
   "execution_count": null,
   "metadata": {},
   "outputs": [],
   "source": [
    "explorer.perform_qc()"
   ]
  },
  {
   "cell_type": "markdown",
   "metadata": {},
   "source": [
    "---\n",
    "\n",
    "### **Plotting**\n",
    "To visualize all replicates and conditions, the CiliaQ Analyzer will plot all selected measurements using superplots. Following the guide provided by [Lord et al. (2020)](10.1083/jcb.202001064), the scatterplots  indicate the replicate ontogeny by color to visually assess reproducability. Moreover, the plots are underlayed with violinplots containing both the median and upper/lower quantile to emphasize the data distribution. \n",
    "\n"
   ]
  },
  {
   "cell_type": "code",
   "execution_count": null,
   "metadata": {},
   "outputs": [],
   "source": [
    "#Plot grouped data\n",
    "explorer.plot_superplot()"
   ]
  },
  {
   "cell_type": "markdown",
   "metadata": {},
   "source": [
    "---\n",
    "\n",
    "### **Summary Export**\n",
    "Finally, the data which was processed by the CiliaQ Explorer is exported as .csv files.\n",
    "##### **Output**:\n",
    "| **Description**               | **File Format**      | **Details** |\n",
    "|-------------------------------|----------------------|-------------|\n",
    "| **Statistical results**        | `(statistics.csv)`   | contains mean, standard deviation, p-values, details about the performed test, etc. |\n",
    "| **Summary file**               | `(summary.csv)`      | contains raw data for each replicate and measurement, which was used for statisticsal analysis and plotting |\n",
    "| **Configuration file**         | `(config.csv)`       | Stores the CiliaQ Explorer settings needed to reproduce the analysis |\n",
    "| **UMAP and PCA plots**         | `(.svg/.png)`        | Visualization of dimensionality reduction* |\n",
    "| **Superplots**                 | `(.svg/.png)`        |   |\n",
    "| **FOR5547 Metadata summary**   | `(metadata.csv)`     | Contains key experimental metadata, if a FOR5547-metafile was supplied |\n",
    "| **Measurement files**          | `(.csv)`            | contains the raw data behind each plot, useful during publication |\n"
   ]
  },
  {
   "cell_type": "code",
   "execution_count": null,
   "metadata": {},
   "outputs": [],
   "source": [
    "explorer.write_summary()\n",
    "explorer.write_config()\n",
    "explorer.write_for5547_summary()"
   ]
  },
  {
   "cell_type": "markdown",
   "metadata": {},
   "source": [
    "---\n",
    "\n",
    "---\n",
    "\n",
    "### **References**\n",
    "\n",
    "1. Paper reference\n",
    "2. Package references"
   ]
  },
  {
   "cell_type": "markdown",
   "metadata": {},
   "source": [
    "---\n",
    "\n",
    "### **License**  \n",
    "This pipeline is released under the MIT License. You are free to use, share, and adapt with attribution.\n",
    "\n",
    "### **Citation**  \n",
    "If you use this pipeline, please cite our protocol paper:  \n",
    "> \n",
    "\n",
    "Example BibTeX:\n",
    "```bibtex\n",
    "@article{YourPaper,\n",
    "  author    = {Your Name and Others},\n",
    "  title     = {Your Protocol Paper Title},\n",
    "  journal   = {Star Protocols},\n",
    "  year      = {2025},\n",
    "  doi       = {DOI here}\n",
    "}"
   ]
  }
 ],
 "metadata": {
  "kernelspec": {
   "display_name": ".venv",
   "language": "python",
   "name": "python3"
  },
  "language_info": {
   "codemirror_mode": {
    "name": "ipython",
    "version": 3
   },
   "file_extension": ".py",
   "mimetype": "text/x-python",
   "name": "python",
   "nbconvert_exporter": "python",
   "pygments_lexer": "ipython3",
   "version": "3.12.4"
  }
 },
 "nbformat": 4,
 "nbformat_minor": 2
}
